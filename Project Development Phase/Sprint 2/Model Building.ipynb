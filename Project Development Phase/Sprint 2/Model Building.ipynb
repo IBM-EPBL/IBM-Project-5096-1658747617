{
  "nbformat": 4,
  "nbformat_minor": 0,
  "metadata": {
    "colab": {
      "provenance": []
    },
    "kernelspec": {
      "name": "python3",
      "display_name": "Python 3"
    },
    "language_info": {
      "name": "python"
    }
  },
  "cells": [
    {
      "cell_type": "code",
      "execution_count": null,
      "metadata": {
        "colab": {
          "base_uri": "https://localhost:8080/"
        },
        "id": "KoriIZ6cx2ci",
        "outputId": "d234511c-9149-4195-d49e-8918bd98373f"
      },
      "outputs": [
        {
          "output_type": "stream",
          "name": "stdout",
          "text": [
            "Mounted at /content/drive\n"
          ]
        }
      ],
      "source": [
        "from google.colab import drive\n",
        "drive.mount('/content/drive')"
      ]
    },
    {
      "cell_type": "code",
      "source": [
        "import numpy as np\n",
        "import tensorflow as tf\n",
        "from tensorflow.keras.models import Sequential\n",
        "from tensorflow.keras.layers import Dense,Flatten,Dropout\n",
        "from tensorflow.keras.layers import Convolution2D,MaxPooling2D\n",
        "from tensorflow.keras.preprocessing.image import ImageDataGenerator"
      ],
      "metadata": {
        "id": "FTHHURaox39u"
      },
      "execution_count": null,
      "outputs": []
    },
    {
      "cell_type": "code",
      "source": [
        "train = ImageDataGenerator(rescale = 1./255,shear_range=0.2,zoom_range=0.2,horizontal_flip=True)\n",
        "test = ImageDataGenerator(rescale = 1./255)"
      ],
      "metadata": {
        "id": "AY-HCwfSx4AL"
      },
      "execution_count": null,
      "outputs": []
    },
    {
      "cell_type": "code",
      "source": [
        "A_train = train.flow_from_directory('/content/drive/MyDrive/Dataset/train', target_size=(64,64), color_mode='grayscale',batch_size=3, class_mode='categorical')\n",
        "A_test = test.flow_from_directory('/content/drive/MyDrive/Dataset/test', target_size=(64,64), color_mode='grayscale',batch_size=3, class_mode='categorical')"
      ],
      "metadata": {
        "colab": {
          "base_uri": "https://localhost:8080/"
        },
        "id": "L5VYwnV6x4DA",
        "outputId": "8d6dfcbb-9159-4853-a3f6-4f3d1b2cb25b"
      },
      "execution_count": null,
      "outputs": [
        {
          "output_type": "stream",
          "name": "stdout",
          "text": [
            "Found 594 images belonging to 6 classes.\n",
            "Found 30 images belonging to 6 classes.\n"
          ]
        }
      ]
    },
    {
      "cell_type": "code",
      "source": [
        "print(A_train.class_indices)"
      ],
      "metadata": {
        "colab": {
          "base_uri": "https://localhost:8080/"
        },
        "id": "7gJFSr5zx4Ga",
        "outputId": "31a103c5-e34e-458e-ad97-feda5eb21a81"
      },
      "execution_count": null,
      "outputs": [
        {
          "output_type": "stream",
          "name": "stdout",
          "text": [
            "{'0': 0, '1': 1, '2': 2, '3': 3, '4': 4, '5': 5}\n"
          ]
        }
      ]
    },
    {
      "cell_type": "code",
      "source": [
        "print(A_test.class_indices)"
      ],
      "metadata": {
        "colab": {
          "base_uri": "https://localhost:8080/"
        },
        "id": "9SGiKsXUyFhH",
        "outputId": "9ba3f09a-4dce-4eb1-dfa5-ea41ffde8be0"
      },
      "execution_count": null,
      "outputs": [
        {
          "output_type": "stream",
          "name": "stdout",
          "text": [
            "{'0': 0, '1': 1, '2': 2, '3': 3, '4': 4, '5': 5}\n"
          ]
        }
      ]
    },
    {
      "cell_type": "code",
      "source": [
        "model = Sequential()"
      ],
      "metadata": {
        "id": "XF5d_vkYyFkE"
      },
      "execution_count": null,
      "outputs": []
    },
    {
      "cell_type": "code",
      "source": [
        "model.add(Convolution2D(32,(3,3),input_shape=(64,64,1),activation='relu'))\n",
        "model.add(MaxPooling2D(pool_size=(2,2)))"
      ],
      "metadata": {
        "id": "yFv5BLAlyFnM"
      },
      "execution_count": null,
      "outputs": []
    },
    {
      "cell_type": "code",
      "source": [
        "model.add(Convolution2D(32,(3,3),activation='relu'))\n",
        "model.add(MaxPooling2D(pool_size=(2,2)))"
      ],
      "metadata": {
        "id": "cNEj2CLUyFqA"
      },
      "execution_count": null,
      "outputs": []
    },
    {
      "cell_type": "code",
      "source": [
        "model.add(Flatten())"
      ],
      "metadata": {
        "id": "II96dGGVyFsz"
      },
      "execution_count": null,
      "outputs": []
    },
    {
      "cell_type": "code",
      "source": [
        "model.add(Dense(units=512,activation='relu'))"
      ],
      "metadata": {
        "id": "3pEUAloeyFvb"
      },
      "execution_count": null,
      "outputs": []
    },
    {
      "cell_type": "code",
      "source": [
        "model.add(Dense(units=6,activation='softmax'))"
      ],
      "metadata": {
        "id": "8PdM6_EtydlO"
      },
      "execution_count": null,
      "outputs": []
    },
    {
      "cell_type": "code",
      "source": [
        "model.summary()"
      ],
      "metadata": {
        "colab": {
          "base_uri": "https://localhost:8080/"
        },
        "id": "OHQwOom3ydn6",
        "outputId": "727dbd6c-b04d-43a0-eaf7-07dfb2577c4b"
      },
      "execution_count": null,
      "outputs": [
        {
          "output_type": "stream",
          "name": "stdout",
          "text": [
            "Model: \"sequential\"\n",
            "_________________________________________________________________\n",
            " Layer (type)                Output Shape              Param #   \n",
            "=================================================================\n",
            " conv2d (Conv2D)             (None, 62, 62, 32)        320       \n",
            "                                                                 \n",
            " max_pooling2d (MaxPooling2D  (None, 31, 31, 32)       0         \n",
            " )                                                               \n",
            "                                                                 \n",
            " conv2d_1 (Conv2D)           (None, 29, 29, 32)        9248      \n",
            "                                                                 \n",
            " max_pooling2d_1 (MaxPooling  (None, 14, 14, 32)       0         \n",
            " 2D)                                                             \n",
            "                                                                 \n",
            " flatten (Flatten)           (None, 6272)              0         \n",
            "                                                                 \n",
            " dense (Dense)               (None, 512)               3211776   \n",
            "                                                                 \n",
            " dense_1 (Dense)             (None, 6)                 3078      \n",
            "                                                                 \n",
            "=================================================================\n",
            "Total params: 3,224,422\n",
            "Trainable params: 3,224,422\n",
            "Non-trainable params: 0\n",
            "_________________________________________________________________\n"
          ]
        }
      ]
    },
    {
      "cell_type": "code",
      "source": [
        "model.compile(metrics=['accuracy'],loss='categorical_crossentropy',optimizer='adam')"
      ],
      "metadata": {
        "id": "ChQxLuF7ydqW"
      },
      "execution_count": null,
      "outputs": []
    },
    {
      "cell_type": "code",
      "source": [
        "model.fit(A_train,steps_per_epoch = 594/3,epochs=25,validation_data=A_test,validation_steps=len(A_test))"
      ],
      "metadata": {
        "colab": {
          "base_uri": "https://localhost:8080/"
        },
        "id": "QxEvhMVTydt4",
        "outputId": "23f2b949-d484-4d0c-eb82-d36d29cde48d"
      },
      "execution_count": null,
      "outputs": [
        {
          "output_type": "stream",
          "name": "stdout",
          "text": [
            "Epoch 1/25\n",
            "198/198 [==============================] - 315s 2s/step - loss: 1.3826 - accuracy: 0.4562 - val_loss: 1.1025 - val_accuracy: 0.7000\n",
            "Epoch 2/25\n",
            "198/198 [==============================] - 13s 65ms/step - loss: 0.5955 - accuracy: 0.7609 - val_loss: 0.4815 - val_accuracy: 0.8333\n",
            "Epoch 3/25\n",
            "198/198 [==============================] - 14s 70ms/step - loss: 0.4487 - accuracy: 0.8401 - val_loss: 0.3288 - val_accuracy: 0.9000\n",
            "Epoch 4/25\n",
            "198/198 [==============================] - 15s 77ms/step - loss: 0.3065 - accuracy: 0.8855 - val_loss: 0.4115 - val_accuracy: 0.8000\n",
            "Epoch 5/25\n",
            "198/198 [==============================] - 13s 65ms/step - loss: 0.2746 - accuracy: 0.8906 - val_loss: 0.2433 - val_accuracy: 0.9333\n",
            "Epoch 6/25\n",
            "198/198 [==============================] - 13s 66ms/step - loss: 0.1955 - accuracy: 0.9276 - val_loss: 0.5452 - val_accuracy: 0.8667\n",
            "Epoch 7/25\n",
            "198/198 [==============================] - 14s 72ms/step - loss: 0.1508 - accuracy: 0.9394 - val_loss: 0.3068 - val_accuracy: 0.9667\n",
            "Epoch 8/25\n",
            "198/198 [==============================] - 13s 65ms/step - loss: 0.1476 - accuracy: 0.9562 - val_loss: 0.1384 - val_accuracy: 0.9333\n",
            "Epoch 9/25\n",
            "198/198 [==============================] - 13s 66ms/step - loss: 0.1143 - accuracy: 0.9596 - val_loss: 0.1619 - val_accuracy: 0.9667\n",
            "Epoch 10/25\n",
            "198/198 [==============================] - 14s 72ms/step - loss: 0.0885 - accuracy: 0.9714 - val_loss: 0.2703 - val_accuracy: 0.9667\n",
            "Epoch 11/25\n",
            "198/198 [==============================] - 13s 65ms/step - loss: 0.0647 - accuracy: 0.9815 - val_loss: 0.1181 - val_accuracy: 0.9667\n",
            "Epoch 12/25\n",
            "198/198 [==============================] - 13s 65ms/step - loss: 0.0355 - accuracy: 0.9899 - val_loss: 0.3558 - val_accuracy: 0.9000\n",
            "Epoch 13/25\n",
            "198/198 [==============================] - 13s 66ms/step - loss: 0.0559 - accuracy: 0.9832 - val_loss: 0.1220 - val_accuracy: 0.9667\n",
            "Epoch 14/25\n",
            "198/198 [==============================] - 13s 66ms/step - loss: 0.0611 - accuracy: 0.9815 - val_loss: 0.2230 - val_accuracy: 0.9667\n",
            "Epoch 15/25\n",
            "198/198 [==============================] - 15s 73ms/step - loss: 0.0853 - accuracy: 0.9747 - val_loss: 0.2975 - val_accuracy: 0.9000\n",
            "Epoch 16/25\n",
            "198/198 [==============================] - 13s 66ms/step - loss: 0.0600 - accuracy: 0.9848 - val_loss: 0.3195 - val_accuracy: 0.9667\n",
            "Epoch 17/25\n",
            "198/198 [==============================] - 13s 66ms/step - loss: 0.0770 - accuracy: 0.9781 - val_loss: 0.2482 - val_accuracy: 0.9667\n",
            "Epoch 18/25\n",
            "198/198 [==============================] - 14s 73ms/step - loss: 0.0444 - accuracy: 0.9832 - val_loss: 0.2470 - val_accuracy: 0.9667\n",
            "Epoch 19/25\n",
            "198/198 [==============================] - 13s 66ms/step - loss: 0.0123 - accuracy: 0.9983 - val_loss: 0.2610 - val_accuracy: 0.9667\n",
            "Epoch 20/25\n",
            "198/198 [==============================] - 13s 66ms/step - loss: 0.0187 - accuracy: 0.9933 - val_loss: 0.3005 - val_accuracy: 0.9333\n",
            "Epoch 21/25\n",
            "198/198 [==============================] - 13s 66ms/step - loss: 0.0333 - accuracy: 0.9933 - val_loss: 0.5817 - val_accuracy: 0.9333\n",
            "Epoch 22/25\n",
            "198/198 [==============================] - 14s 73ms/step - loss: 0.0980 - accuracy: 0.9697 - val_loss: 0.2166 - val_accuracy: 0.9000\n",
            "Epoch 23/25\n",
            "198/198 [==============================] - 13s 66ms/step - loss: 0.0561 - accuracy: 0.9848 - val_loss: 0.2064 - val_accuracy: 0.9667\n",
            "Epoch 24/25\n",
            "198/198 [==============================] - 14s 69ms/step - loss: 0.0440 - accuracy: 0.9882 - val_loss: 0.0157 - val_accuracy: 1.0000\n",
            "Epoch 25/25\n",
            "198/198 [==============================] - 15s 73ms/step - loss: 0.0474 - accuracy: 0.9899 - val_loss: 0.2139 - val_accuracy: 0.9333\n"
          ]
        },
        {
          "output_type": "execute_result",
          "data": {
            "text/plain": [
              "<keras.callbacks.History at 0x7f8554691a10>"
            ]
          },
          "metadata": {},
          "execution_count": 15
        }
      ]
    },
    {
      "cell_type": "code",
      "source": [
        "model.save('gesture.h5')\n"
      ],
      "metadata": {
        "id": "rBb-7M5GyFzI"
      },
      "execution_count": null,
      "outputs": []
    },
    {
      "cell_type": "code",
      "source": [
        "json_model = model.to_json()\n",
        "with open(\"model-gesture.json\",\"w\") as json_file:\n",
        "  json_file.write(json_model)"
      ],
      "metadata": {
        "id": "pQd3tZs40OLP"
      },
      "execution_count": null,
      "outputs": []
    },
    {
      "cell_type": "code",
      "source": [
        "from tensorflow.keras.models import load_model\n",
        "from tensorflow.keras.preprocessing import image\n",
        "test_model = load_model('gesture.h5')\n",
        "img_path=\"/content/drive/MyDrive/Dataset/test_image_1.jpg\""
      ],
      "metadata": {
        "id": "Rni8TBqS0SIr"
      },
      "execution_count": null,
      "outputs": []
    },
    {
      "cell_type": "code",
      "source": [
        "import matplotlib.pyplot as plt\n",
        "import matplotlib.image as mpimg\n",
        "img = mpimg.imread(img_path)\n",
        "imgplot = plt.imshow(img)\n",
        "plt.show()"
      ],
      "metadata": {
        "colab": {
          "base_uri": "https://localhost:8080/",
          "height": 240
        },
        "id": "NTkEnZNC0U3-",
        "outputId": "cc366b56-a23a-4cd5-f5b7-1a62c6c232fc"
      },
      "execution_count": null,
      "outputs": [
        {
          "output_type": "display_data",
          "data": {
            "text/plain": [
              "<Figure size 432x288 with 1 Axes>"
            ],
            "image/png": "[encoded data removed]"
          },
          "metadata": {
            "needs_background": "light"
          }
        }
      ]
    },
    {
      "cell_type": "code",
      "source": [
        "imgload = image.load_img(img_path,color_mode='grayscale',target_size=(64,64))\n",
        "res = image.img_to_array(imgload)\n",
        "res.shape"
      ],
      "metadata": {
        "colab": {
          "base_uri": "https://localhost:8080/"
        },
        "id": "TdtAIFYi0XyE",
        "outputId": "cb175c84-e6d8-413f-bdb5-789cc2c22abc"
      },
      "execution_count": null,
      "outputs": [
        {
          "output_type": "execute_result",
          "data": {
            "text/plain": [
              "(64, 64, 1)"
            ]
          },
          "metadata": {},
          "execution_count": 95
        }
      ]
    },
    {
      "cell_type": "code",
      "source": [
        "type(res)"
      ],
      "metadata": {
        "colab": {
          "base_uri": "https://localhost:8080/"
        },
        "id": "APDkRSVl3EQ-",
        "outputId": "7ae1c2dd-6574-42d4-d3b6-0d4d9e1efa41"
      },
      "execution_count": null,
      "outputs": [
        {
          "output_type": "execute_result",
          "data": {
            "text/plain": [
              "numpy.ndarray"
            ]
          },
          "metadata": {},
          "execution_count": 96
        }
      ]
    },
    {
      "cell_type": "code",
      "source": [
        "res = np.expand_dims(res,axis=0)"
      ],
      "metadata": {
        "id": "VgRATWEk3EUh"
      },
      "execution_count": null,
      "outputs": []
    },
    {
      "cell_type": "code",
      "source": [
        "res.shape"
      ],
      "metadata": {
        "colab": {
          "base_uri": "https://localhost:8080/"
        },
        "id": "g2z1zSQ93Ed-",
        "outputId": "d44748d9-3b58-498e-c38b-37210f9a0484"
      },
      "execution_count": null,
      "outputs": [
        {
          "output_type": "execute_result",
          "data": {
            "text/plain": [
              "(1, 64, 64, 1)"
            ]
          },
          "metadata": {},
          "execution_count": 98
        }
      ]
    },
    {
      "cell_type": "code",
      "source": [
        "pred_res = np.argmax(test_model.predict(res),axis=-1)\n",
        "pred_res"
      ],
      "metadata": {
        "colab": {
          "base_uri": "https://localhost:8080/"
        },
        "id": "3BvzHQxa3EwA",
        "outputId": "977447bd-759c-4fb5-cd56-45d5f77092e8"
      },
      "execution_count": null,
      "outputs": [
        {
          "output_type": "stream",
          "name": "stdout",
          "text": [
            "1/1 [==============================] - 0s 67ms/step\n"
          ]
        },
        {
          "output_type": "execute_result",
          "data": {
            "text/plain": [
              "array([1])"
            ]
          },
          "metadata": {},
          "execution_count": 99
        }
      ]
    },
    {
      "cell_type": "code",
      "source": [
        "index = ['0','1','2','3','4','5']\n",
        "final_res = str(index[pred_res[0]])\n",
        "final_res"
      ],
      "metadata": {
        "colab": {
          "base_uri": "https://localhost:8080/",
          "height": 35
        },
        "id": "50OYFGjr3apy",
        "outputId": "a7023738-523d-4a81-d6e0-2c3d66e245b9"
      },
      "execution_count": null,
      "outputs": [
        {
          "output_type": "execute_result",
          "data": {
            "text/plain": [
              "'1'"
            ],
            "application/vnd.google.colaboratory.intrinsic+json": {
              "type": "string"
            }
          },
          "metadata": {},
          "execution_count": 100
        }
      ]
    }
  ]
}