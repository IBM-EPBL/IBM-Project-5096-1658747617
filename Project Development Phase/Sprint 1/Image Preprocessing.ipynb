{
  "nbformat": 4,
  "nbformat_minor": 0,
  "metadata": {
    "colab": {
      "provenance": []
    },
    "kernelspec": {
      "name": "python3",
      "display_name": "Python 3"
    },
    "language_info": {
      "name": "python"
    }
  },
  "cells": [
    {
      "cell_type": "code",
      "execution_count": 3,
      "metadata": {
        "colab": {
          "base_uri": "https://localhost:8080/"
        },
        "id": "1VWSQfNHdw8a",
        "outputId": "ef956ac3-54bf-43a1-ea93-8532c9806c22"
      },
      "outputs": [
        {
          "output_type": "stream",
          "name": "stdout",
          "text": [
            "Mounted at /content/drive\n"
          ]
        }
      ],
      "source": [
        "from google.colab import drive\n",
        "drive.mount('/content/drive')"
      ]
    },
    {
      "cell_type": "code",
      "source": [
        "import pandas as pd\n",
        "from keras.preprocessing.image import ImageDataGenerator"
      ],
      "metadata": {
        "id": "tKHh2e4Ke9Wd"
      },
      "execution_count": 4,
      "outputs": []
    },
    {
      "cell_type": "code",
      "source": [
        "train_data_generator1=ImageDataGenerator(rescale=1./255,shear_range=0.2,zoom_range=0.2,horizontal_flip=True)\n",
        "test_data_generator1=ImageDataGenerator(rescale=1./255)"
      ],
      "metadata": {
        "id": "HYkkQ6EufbUx"
      },
      "execution_count": 21,
      "outputs": []
    },
    {
      "cell_type": "code",
      "source": [
        "train_data_generator2 = ImageDataGenerator(rescale=1.0/255,rotation_range=90)\n",
        "test_data_generator2 = ImageDataGenerator(rescale=1.0/255,rotation_range=90)\n",
        "train_data_generator3 = ImageDataGenerator(rescale=1.0/255,brightness_range=[0.2,1.0])\n",
        "test_data_generator3 = ImageDataGenerator(rescale=1.0/255,brightness_range=[0.2,1.0])\n",
        "train_data_generator4 = ImageDataGenerator(rescale=1.0/255,zoom_range=[0.5,1.0])\n",
        "test_data_generator4 = ImageDataGenerator(rescale=1.0/255,zoom_range=[0.5,1.0])"
      ],
      "metadata": {
        "id": "BEG67XUjm2UZ"
      },
      "execution_count": 17,
      "outputs": []
    },
    {
      "cell_type": "code",
      "source": [
        "trdata1 = train_data_generator1.flow_from_directory('/content/drive/MyDrive/Dataset/train',target_size=(64,64),batch_size=(3),color_mode='grayscale',class_mode='categorical')"
      ],
      "metadata": {
        "colab": {
          "base_uri": "https://localhost:8080/"
        },
        "id": "7CpcR0jpm2Xg",
        "outputId": "41c4cbc6-0c14-43f9-ebc2-8ce7f8d1c64a"
      },
      "execution_count": 22,
      "outputs": [
        {
          "output_type": "stream",
          "name": "stdout",
          "text": [
            "Found 594 images belonging to 6 classes.\n"
          ]
        }
      ]
    },
    {
      "cell_type": "code",
      "source": [
        "trdata2 = train_data_generator2.flow_from_directory('/content/drive/MyDrive/Dataset/train',target_size=(64,64),batch_size=(3),color_mode='grayscale',class_mode='categorical')"
      ],
      "metadata": {
        "colab": {
          "base_uri": "https://localhost:8080/"
        },
        "id": "AA5KYfnJm2bR",
        "outputId": "9a4026fd-3a41-486a-fc9b-979c6e0896d4"
      },
      "execution_count": 23,
      "outputs": [
        {
          "output_type": "stream",
          "name": "stdout",
          "text": [
            "Found 594 images belonging to 6 classes.\n"
          ]
        }
      ]
    },
    {
      "cell_type": "code",
      "source": [
        "trdata3 = train_data_generator3.flow_from_directory('/content/drive/MyDrive/Dataset/train',target_size=(64,64),batch_size=(3),color_mode='grayscale',class_mode='categorical')"
      ],
      "metadata": {
        "colab": {
          "base_uri": "https://localhost:8080/"
        },
        "id": "fNinfThum2fh",
        "outputId": "93d0612e-051f-4569-be73-90f5cbdf38d4"
      },
      "execution_count": 24,
      "outputs": [
        {
          "output_type": "stream",
          "name": "stdout",
          "text": [
            "Found 594 images belonging to 6 classes.\n"
          ]
        }
      ]
    },
    {
      "cell_type": "code",
      "source": [
        "trdata4 = train_data_generator4.flow_from_directory('/content/drive/MyDrive/Dataset/train',target_size=(64,64),batch_size=(3),color_mode='grayscale',class_mode='categorical')"
      ],
      "metadata": {
        "colab": {
          "base_uri": "https://localhost:8080/"
        },
        "id": "lRVvk-QZljJw",
        "outputId": "1de23803-23d2-4b75-b4a7-0dfe6569700b"
      },
      "execution_count": 25,
      "outputs": [
        {
          "output_type": "stream",
          "name": "stdout",
          "text": [
            "Found 594 images belonging to 6 classes.\n"
          ]
        }
      ]
    },
    {
      "cell_type": "code",
      "source": [
        "tsdata1 = test_data_generator1.flow_from_directory('/content/drive/MyDrive/Dataset/test',target_size=(64,64),batch_size=(3),color_mode='grayscale',class_mode='categorical')"
      ],
      "metadata": {
        "colab": {
          "base_uri": "https://localhost:8080/"
        },
        "id": "1ekUbXr9gchB",
        "outputId": "97f36cae-b93c-4cec-ee70-f970db475838"
      },
      "execution_count": 26,
      "outputs": [
        {
          "output_type": "stream",
          "name": "stdout",
          "text": [
            "Found 30 images belonging to 6 classes.\n"
          ]
        }
      ]
    },
    {
      "cell_type": "code",
      "source": [
        "tsdata2 = test_data_generator2.flow_from_directory('/content/drive/MyDrive/Dataset/test',target_size=(64,64),batch_size=(3),color_mode='grayscale',class_mode='categorical')"
      ],
      "metadata": {
        "colab": {
          "base_uri": "https://localhost:8080/"
        },
        "id": "y2EvDpo8qJt0",
        "outputId": "6d659249-eeae-4127-92ed-036b35cbaf1b"
      },
      "execution_count": 27,
      "outputs": [
        {
          "output_type": "stream",
          "name": "stdout",
          "text": [
            "Found 30 images belonging to 6 classes.\n"
          ]
        }
      ]
    },
    {
      "cell_type": "code",
      "source": [
        "tsdata3 = test_data_generator3.flow_from_directory('/content/drive/MyDrive/Dataset/test',target_size=(64,64),batch_size=(3),color_mode='grayscale',class_mode='categorical')"
      ],
      "metadata": {
        "colab": {
          "base_uri": "https://localhost:8080/"
        },
        "id": "S4Rvw3lvqJw6",
        "outputId": "3d43c797-455a-436c-9d94-7c74828d5be1"
      },
      "execution_count": 28,
      "outputs": [
        {
          "output_type": "stream",
          "name": "stdout",
          "text": [
            "Found 30 images belonging to 6 classes.\n"
          ]
        }
      ]
    },
    {
      "cell_type": "code",
      "source": [
        "tsdata4 = test_data_generator4.flow_from_directory('/content/drive/MyDrive/Dataset/test',target_size=(64,64),batch_size=(3),color_mode='grayscale',class_mode='categorical')"
      ],
      "metadata": {
        "colab": {
          "base_uri": "https://localhost:8080/"
        },
        "id": "DmCus74QqJ0L",
        "outputId": "240bfea0-dccd-4d01-ef6f-a14b981d4551"
      },
      "execution_count": 29,
      "outputs": [
        {
          "output_type": "stream",
          "name": "stdout",
          "text": [
            "Found 30 images belonging to 6 classes.\n"
          ]
        }
      ]
    },
    {
      "cell_type": "code",
      "source": [
        "print(trdata1.class_indices)"
      ],
      "metadata": {
        "colab": {
          "base_uri": "https://localhost:8080/"
        },
        "id": "-Rwo8RdLqJ56",
        "outputId": "f828c81d-d2dc-4753-c755-0d473015a6fb"
      },
      "execution_count": 30,
      "outputs": [
        {
          "output_type": "stream",
          "name": "stdout",
          "text": [
            "{'0': 0, '1': 1, '2': 2, '3': 3, '4': 4, '5': 5}\n"
          ]
        }
      ]
    },
    {
      "cell_type": "code",
      "source": [
        "print(trdata2.class_indices)"
      ],
      "metadata": {
        "colab": {
          "base_uri": "https://localhost:8080/"
        },
        "id": "2YqnWAarqfxD",
        "outputId": "680aa0f6-85ff-4543-9823-6a52c97157f5"
      },
      "execution_count": 31,
      "outputs": [
        {
          "output_type": "stream",
          "name": "stdout",
          "text": [
            "{'0': 0, '1': 1, '2': 2, '3': 3, '4': 4, '5': 5}\n"
          ]
        }
      ]
    },
    {
      "cell_type": "code",
      "source": [
        "print(trdata3.class_indices)"
      ],
      "metadata": {
        "colab": {
          "base_uri": "https://localhost:8080/"
        },
        "id": "RyhPNxWfqfzR",
        "outputId": "94c976bc-e3ba-44ed-daf9-75a32f34544d"
      },
      "execution_count": 32,
      "outputs": [
        {
          "output_type": "stream",
          "name": "stdout",
          "text": [
            "{'0': 0, '1': 1, '2': 2, '3': 3, '4': 4, '5': 5}\n"
          ]
        }
      ]
    },
    {
      "cell_type": "code",
      "source": [
        "print(trdata4.class_indices)"
      ],
      "metadata": {
        "colab": {
          "base_uri": "https://localhost:8080/"
        },
        "id": "FfCBCXiCqf2D",
        "outputId": "09b51b40-51eb-43fe-e9c9-1b8b18bfee21"
      },
      "execution_count": 33,
      "outputs": [
        {
          "output_type": "stream",
          "name": "stdout",
          "text": [
            "{'0': 0, '1': 1, '2': 2, '3': 3, '4': 4, '5': 5}\n"
          ]
        }
      ]
    },
    {
      "cell_type": "code",
      "source": [
        "print(tsdata1.class_indices)"
      ],
      "metadata": {
        "colab": {
          "base_uri": "https://localhost:8080/"
        },
        "id": "xdhUCHMZqf4x",
        "outputId": "daab73d6-850b-4201-96ee-1ad7b59ff346"
      },
      "execution_count": 34,
      "outputs": [
        {
          "output_type": "stream",
          "name": "stdout",
          "text": [
            "{'0': 0, '1': 1, '2': 2, '3': 3, '4': 4, '5': 5}\n"
          ]
        }
      ]
    },
    {
      "cell_type": "code",
      "source": [
        "print(tsdata2.class_indices)"
      ],
      "metadata": {
        "colab": {
          "base_uri": "https://localhost:8080/"
        },
        "id": "ioMZMWsKqtNA",
        "outputId": "0a7a3daf-d654-4982-8396-8423527c9bcc"
      },
      "execution_count": 35,
      "outputs": [
        {
          "output_type": "stream",
          "name": "stdout",
          "text": [
            "{'0': 0, '1': 1, '2': 2, '3': 3, '4': 4, '5': 5}\n"
          ]
        }
      ]
    },
    {
      "cell_type": "code",
      "source": [
        "print(tsdata3.class_indices)"
      ],
      "metadata": {
        "colab": {
          "base_uri": "https://localhost:8080/"
        },
        "id": "SejXpT4ZqtQQ",
        "outputId": "d72f0030-a851-4b83-c2d3-01f27d1c692e"
      },
      "execution_count": 36,
      "outputs": [
        {
          "output_type": "stream",
          "name": "stdout",
          "text": [
            "{'0': 0, '1': 1, '2': 2, '3': 3, '4': 4, '5': 5}\n"
          ]
        }
      ]
    },
    {
      "cell_type": "code",
      "source": [
        "print(tsdata4.class_indices)"
      ],
      "metadata": {
        "colab": {
          "base_uri": "https://localhost:8080/"
        },
        "id": "6ZCdBK05qtTA",
        "outputId": "50d76f0e-b2a1-4e96-8dc8-35288d976185"
      },
      "execution_count": 37,
      "outputs": [
        {
          "output_type": "stream",
          "name": "stdout",
          "text": [
            "{'0': 0, '1': 1, '2': 2, '3': 3, '4': 4, '5': 5}\n"
          ]
        }
      ]
    }
  ]
}